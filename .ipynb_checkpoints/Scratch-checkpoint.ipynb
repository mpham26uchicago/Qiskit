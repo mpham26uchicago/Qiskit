{
 "cells": [
  {
   "cell_type": "markdown",
   "metadata": {},
   "source": [
    "# IMPORT THIS!!!"
   ]
  },
  {
   "cell_type": "code",
   "execution_count": 1,
   "metadata": {},
   "outputs": [
    {
     "name": "stderr",
     "output_type": "stream",
     "text": [
      "Duplicate key in file '/Users/minhpham/.matplotlib/matplotlibrc' line #2.\n",
      "Duplicate key in file '/Users/minhpham/.matplotlib/matplotlibrc' line #3.\n"
     ]
    }
   ],
   "source": [
    "import numpy as np\n",
    "import matplotlib\n",
    "import matplotlib.pyplot as plt\n",
    "import scipy.integrate as integrate\n",
    "import quadpy\n",
    "import random\n",
    "import math"
   ]
  },
  {
   "cell_type": "markdown",
   "metadata": {},
   "source": [
    "### Getting ${y^_c}$"
   ]
  },
  {
   "cell_type": "code",
   "execution_count": 131,
   "metadata": {},
   "outputs": [
    {
     "name": "stdout",
     "output_type": "stream",
     "text": [
      "[-1.5, 1.5) 0\n",
      "[254.5, 257.5) 85\n",
      "[510.5, 513.5) 171\n"
     ]
    },
    {
     "data": {
      "image/png": "[encoded data removed]",
      "text/plain": [
       "<Figure size 432x288 with 1 Axes>"
      ]
     },
     "metadata": {
      "needs_background": "light"
     },
     "output_type": "display_data"
    },
    {
     "data": {
      "image/png": "[encoded data removed]",
      "text/plain": [
       "<Figure size 432x288 with 1 Axes>"
      ]
     },
     "metadata": {
      "needs_background": "light"
     },
     "output_type": "display_data"
    }
   ],
   "source": [
    "# y_c = lambda N, a: [math.ceil((c*N-(a/2))/a) for c in range(a)]\\n\n",
    "\n",
    "N = 256\n",
    "a = 3\n",
    "for c in range(a):\n",
    "    print(f'[{c*N-a/2}, {c*N+a/2})', math.ceil((c*N-(a/2))/a))\n",
    "\n",
    "y = [math.ceil((c*N-(a/2))/a)*a-c*N for c in range(a)]\n",
    "\n",
    "quick_graph(y, scatter = True)\n",
    "quick_graph(y, scatter = True, fft = True)"
   ]
  },
  {
   "cell_type": "code",
   "execution_count": 127,
   "metadata": {},
   "outputs": [],
   "source": [
    "def quick_graph(y, scatter = True, fft = False):\n",
    "    x = range(len(y))\n",
    "    \n",
    "    if fft: \n",
    "        y = np.absolute(np.fft.fft(y))\n",
    "    else: \n",
    "        y = np.absolute(np.array(y))\n",
    "    \n",
    "    ax = plt.gca() \n",
    "    ax.spines['top'].set_color('none')\n",
    "    ax.spines['bottom'].set_position('zero')\n",
    "    ax.spines['left'].set_position('zero')\n",
    "    ax.spines['right'].set_color('none')\n",
    "              \n",
    "    if scatter:\n",
    "        \n",
    "        ax.stem(x, y, linefmt = 'C0--', markerfmt='C0 ', basefmt = ' ', use_line_collection = True)\n",
    "        plt.scatter(x, y)\n",
    "        plt.show()\n",
    "    else: \n",
    "        plt.plot(x, y)"
   ]
  }
 ],
 "metadata": {
  "kernelspec": {
   "display_name": "Python 3",
   "language": "python",
   "name": "python3"
  },
  "language_info": {
   "codemirror_mode": {
    "name": "ipython",
    "version": 3
   },
   "file_extension": ".py",
   "mimetype": "text/x-python",
   "name": "python",
   "nbconvert_exporter": "python",
   "pygments_lexer": "ipython3",
   "version": "3.7.4"
  }
 },
 "nbformat": 4,
 "nbformat_minor": 2
}
