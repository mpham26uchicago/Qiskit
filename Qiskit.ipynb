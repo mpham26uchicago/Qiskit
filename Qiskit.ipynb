{
 "cells": [
  {
   "cell_type": "code",
   "execution_count": 190,
   "metadata": {},
   "outputs": [],
   "source": [
    "import qiskit\n",
    "from qiskit import *\n",
    "\n",
    "# Representing Data\n",
    "from qiskit.providers.aer import QasmSimulator, StatevectorSimulator, UnitarySimulator\n",
    "from qiskit.tools.visualization import plot_histogram, plot_state_city, plot_bloch_multivector\n",
    "\n",
    "# Monitor Job on Real Machine\n",
    "from qiskit.tools.monitor import job_monitor\n",
    "\n",
    "import numpy as np\n",
    "from functools import reduce # perform sucessive tensor product\n",
    "\n",
    "matplotlib.use( 'tkagg' )"
   ]
  },
  {
   "cell_type": "markdown",
   "metadata": {},
   "source": [
    "## Quantum Gates"
   ]
  },
  {
   "cell_type": "markdown",
   "metadata": {},
   "source": [
    "### Pauli Gate"
   ]
  },
  {
   "cell_type": "code",
   "execution_count": 105,
   "metadata": {},
   "outputs": [
    {
     "data": {
      "image/png": "[encoded data removed]",
      "text/plain": [
       "<Figure size 314.126x144.48 with 1 Axes>"
      ]
     },
     "execution_count": 105,
     "metadata": {},
     "output_type": "execute_result"
    }
   ],
   "source": [
    "circ = QuantumCircuit(1, 1)\n",
    "circ.x(0)\n",
    "circ.y(0)\n",
    "circ.z(0)\n",
    "circ.measure(0, 0)\n",
    "circ.draw('mpl')"
   ]
  },
  {
   "cell_type": "markdown",
   "metadata": {},
   "source": [
    "### Hadamard Gate"
   ]
  },
  {
   "cell_type": "code",
   "execution_count": 106,
   "metadata": {},
   "outputs": [
    {
     "data": {
      "image/png": "[encoded data removed]",
      "text/plain": [
       "<Figure size 193.726x144.48 with 1 Axes>"
      ]
     },
     "execution_count": 106,
     "metadata": {},
     "output_type": "execute_result"
    }
   ],
   "source": [
    "circ = QuantumCircuit(1, 1)\n",
    "circ.h(0)\n",
    "circ.measure(0, 0)\n",
    "circ.draw('mpl')"
   ]
  },
  {
   "cell_type": "markdown",
   "metadata": {},
   "source": [
    "### Controlled-Not Gate"
   ]
  },
  {
   "cell_type": "code",
   "execution_count": 104,
   "metadata": {},
   "outputs": [
    {
     "data": {
      "image/png": "[encoded data removed]",
      "text/plain": [
       "<Figure size 267.052x204.68 with 1 Axes>"
      ]
     },
     "execution_count": 104,
     "metadata": {},
     "output_type": "execute_result"
    }
   ],
   "source": [
    "circ = QuantumCircuit(2, 2)\n",
    "circ.cx(0, 1)\n",
    "circ.measure([0,1], [0,1])\n",
    "circ.draw('mpl')"
   ]
  },
  {
   "cell_type": "markdown",
   "metadata": {},
   "source": [
    "## Common Basis Vectors"
   ]
  },
  {
   "cell_type": "code",
   "execution_count": 108,
   "metadata": {},
   "outputs": [],
   "source": [
    "# Useful for Initializing a New Circuit\n",
    "\n",
    "zero = np.array([[1], [0]])\n",
    "one =  np.array([[0], [1]])\n",
    "\n",
    "plus = np.array([[1], [1]])/np.sqrt(2) # X plus basis state\n",
    "minus = np.array([[1], [-1]])/np.sqrt(2) # X minus basis state\n",
    "\n",
    "B00 = np.array([[1], [0], [0], [1]])/np.sqrt(2) # Bell of 00\n",
    "B01 = np.array([[0], [1], [1], [0]])/np.sqrt(2) # Bell of 01\n",
    "B10 = np.array([[1], [0], [0], [-1]])/np.sqrt(2) # Bell of 10\n",
    "B11 = np.array([[0], [-1], [1], [0]])/np.sqrt(2) # Bell of 11"
   ]
  },
  {
   "cell_type": "markdown",
   "metadata": {},
   "source": [
    "## Initialize New CIrcuit"
   ]
  },
  {
   "cell_type": "code",
   "execution_count": 297,
   "metadata": {},
   "outputs": [],
   "source": [
    "def new_circuit(qubits, cbits = None, *initial_state, drawing = True):\n",
    "    \n",
    "    \"\"\"\n",
    "    \n",
    "    Initialize a new circ with an arbitray statevector\n",
    "\n",
    "    Parameters\n",
    "    ----------\n",
    "    no_qubits: int\n",
    "        Number of qubits intitialized\n",
    "    initial_state: np.array\n",
    "        All the separable statevectors and non-separable statevectors\n",
    "\n",
    "    Returns\n",
    "    -------\n",
    "    circ: qiskit.circuit.quantumcircuit.QuantumCircuit\n",
    "        An initialized Circuit\n",
    "        \n",
    "    \"\"\"\n",
    "    \n",
    "    # Default to cbits = qubits unless a specific number is given\n",
    "    cbits = qubits if cbits == None else cbits\n",
    "    \n",
    "    # Default to all 0 states for all qubits if no initial_state is given\n",
    "    initial_state = [zero for i in range(qubits)] if initial_state == () else initial_state\n",
    "    \n",
    "    \n",
    "    if len(initial_state) == 2:\n",
    "        initial_state == [initial_state]\n",
    "        \n",
    "    \n",
    "    # Successively calculate the tensor product\n",
    "    initial_state = reduce(lambda x, y: np.kron(x, y), initial_state)\n",
    "    \n",
    "    \n",
    "    # Reshape to make statevector compatible with the initialize method\n",
    "    initial_state = initial_state.reshape(2**qubits)\n",
    "    \n",
    "    \n",
    "    # Create Circuit\n",
    "    circ = QuantumCircuit(qubits, cbits)\n",
    "    circ.initialize(initial_state, range(qubits))\n",
    "    circ.barrier()\n",
    "    \n",
    "    # Draw Circuit\n",
    "    if drawing:\n",
    "        circ.draw('mpl')\n",
    "    \n",
    "    return circ"
   ]
  },
  {
   "cell_type": "code",
   "execution_count": 239,
   "metadata": {},
   "outputs": [
    {
     "data": {
      "image/png": "[encoded data removed]",
      "text/plain": [
       "<Figure size 869.197x325.08 with 1 Axes>"
      ]
     },
     "metadata": {},
     "output_type": "display_data"
    }
   ],
   "source": [
    "# Example\n",
    "circ = new_circuit(5, B00, B11, plus)"
   ]
  },
  {
   "cell_type": "markdown",
   "metadata": {},
   "source": [
    "## Representing Results"
   ]
  },
  {
   "cell_type": "markdown",
   "metadata": {},
   "source": [
    "There are five step to representing the result of a circuit\n",
    "\n",
    "### 1. Compose Circuit"
   ]
  },
  {
   "cell_type": "markdown",
   "metadata": {},
   "source": [
    "### 2. Define Simulator"
   ]
  },
  {
   "cell_type": "code",
   "execution_count": null,
   "metadata": {},
   "outputs": [],
   "source": [
    "simulator = Aer.get_backend('')\n",
    "\n",
    "'''There are several different option for backend\n",
    "\n",
    "Mathematical Simulator: \n",
    "\n",
    "statevector_simulator\n",
    "unitary_simulator\n",
    "\n",
    "Experimental Simulator: \n",
    "\n",
    "ibmq_qasm_simulator (Classical Simulation)\n",
    "\n",
    "(The rest are real quantum machines / Providers)\n",
    "\n",
    "ibmq_16_melbourne \n",
    "ibmq_ourense\n",
    "ibmqx2\n",
    "ibmq_vigo\n",
    "ibmq_london\n",
    "ibmq_burlington\n",
    "ibmq_essex\n",
    "ibmq_armonk\n",
    "ibmq_valencia\n",
    "ibmq_santiago'''"
   ]
  },
  {
   "cell_type": "markdown",
   "metadata": {},
   "source": [
    "### 3. Execute Circuit with Simulators"
   ]
  },
  {
   "cell_type": "code",
   "execution_count": 116,
   "metadata": {},
   "outputs": [
    {
     "ename": "SyntaxError",
     "evalue": "invalid syntax (<ipython-input-116-4df3b5863234>, line 12)",
     "output_type": "error",
     "traceback": [
      "\u001b[0;36m  File \u001b[0;32m\"<ipython-input-116-4df3b5863234>\"\u001b[0;36m, line \u001b[0;32m12\u001b[0m\n\u001b[0;31m    job = execute(circuit, backend = qcomp, shots = )\u001b[0m\n\u001b[0m                                                    ^\u001b[0m\n\u001b[0;31mSyntaxError\u001b[0m\u001b[0;31m:\u001b[0m invalid syntax\n"
     ]
    }
   ],
   "source": [
    "# For Mathematical Representation\n",
    "results = execute(circ, simulator).result()\n",
    "\n",
    "# For Experimental Representation\n",
    "\n",
    "IBMQ.load_account()  # Enter Unique User Id here\n",
    "\n",
    "provider = IBMQ.get_provider('ibm-q')\n",
    "\n",
    "qcomp = provider.get_backend('ibmq_qasm_simulator')\n",
    "\n",
    "job = execute(circuit, backend = qcomp, shots = )\n",
    "\n",
    "job_monitor(job)\n",
    "\n",
    "results = job.result()"
   ]
  },
  {
   "cell_type": "markdown",
   "metadata": {},
   "source": [
    "### 4. Count Results"
   ]
  },
  {
   "cell_type": "code",
   "execution_count": 117,
   "metadata": {
    "scrolled": true
   },
   "outputs": [
    {
     "ename": "AttributeError",
     "evalue": "'AerJob' object has no attribute 'get_statevector'",
     "output_type": "error",
     "traceback": [
      "\u001b[0;31m---------------------------------------------------------------------------\u001b[0m",
      "\u001b[0;31mAttributeError\u001b[0m                            Traceback (most recent call last)",
      "\u001b[0;32m<ipython-input-117-642e2921810d>\u001b[0m in \u001b[0;36m<module>\u001b[0;34m\u001b[0m\n\u001b[1;32m      1\u001b[0m \u001b[0;31m# Statevector\u001b[0m\u001b[0;34m\u001b[0m\u001b[0;34m\u001b[0m\u001b[0;34m\u001b[0m\u001b[0m\n\u001b[0;32m----> 2\u001b[0;31m \u001b[0mstatevector\u001b[0m \u001b[0;34m=\u001b[0m \u001b[0mresults\u001b[0m\u001b[0;34m.\u001b[0m\u001b[0mget_statevector\u001b[0m\u001b[0;34m(\u001b[0m\u001b[0mcirc\u001b[0m\u001b[0;34m)\u001b[0m\u001b[0;34m\u001b[0m\u001b[0;34m\u001b[0m\u001b[0m\n\u001b[0m\u001b[1;32m      3\u001b[0m \u001b[0;34m\u001b[0m\u001b[0m\n\u001b[1;32m      4\u001b[0m \u001b[0;31m# Unitary\u001b[0m\u001b[0;34m\u001b[0m\u001b[0;34m\u001b[0m\u001b[0;34m\u001b[0m\u001b[0m\n\u001b[1;32m      5\u001b[0m \u001b[0munitary\u001b[0m \u001b[0;34m=\u001b[0m \u001b[0mresults\u001b[0m\u001b[0;34m.\u001b[0m\u001b[0mget_unitary\u001b[0m\u001b[0;34m(\u001b[0m\u001b[0mcirc\u001b[0m\u001b[0;34m)\u001b[0m\u001b[0;34m\u001b[0m\u001b[0;34m\u001b[0m\u001b[0m\n",
      "\u001b[0;31mAttributeError\u001b[0m: 'AerJob' object has no attribute 'get_statevector'"
     ]
    }
   ],
   "source": [
    "# Statevector\n",
    "statevector = results.get_statevector(circ)\n",
    "\n",
    "# Unitary\n",
    "unitary = results.get_unitary(circ)\n",
    "\n",
    "# Counts \n",
    "counts = results.get_counts(circ)"
   ]
  },
  {
   "cell_type": "markdown",
   "metadata": {},
   "source": [
    "### 5. Display Results"
   ]
  },
  {
   "cell_type": "code",
   "execution_count": 19,
   "metadata": {},
   "outputs": [
    {
     "ename": "SyntaxError",
     "evalue": "invalid syntax (<ipython-input-19-c79edcc7d842>, line 16)",
     "output_type": "error",
     "traceback": [
      "\u001b[0;36m  File \u001b[0;32m\"<ipython-input-19-c79edcc7d842>\"\u001b[0;36m, line \u001b[0;32m16\u001b[0m\n\u001b[0;31m    simulator = Aer.get_backend('statevector_simulator')\u001b[0m\n\u001b[0m            ^\u001b[0m\n\u001b[0;31mSyntaxError\u001b[0m\u001b[0;31m:\u001b[0m invalid syntax\n"
     ]
    }
   ],
   "source": [
    "# Plot Bloch Sphere (Represent the statevector as a ray on the Bloch Sphere)\n",
    "plot_bloch_multivector(statevector)\n",
    "\n",
    "# Plot State City (Represent the amplitude of the bases of the statevector)\n",
    "plot_state_city(statevector)\n",
    "\n",
    "# Plot Histogram (Represent counts of each measurement)\n",
    "plot_histogram(counts)"
   ]
  },
  {
   "cell_type": "markdown",
   "metadata": {},
   "source": [
    "## GHZ Generator"
   ]
  },
  {
   "cell_type": "code",
   "execution_count": 341,
   "metadata": {},
   "outputs": [],
   "source": [
    "def GHZ(qubits, *initial_state, drawing = True):\n",
    "    \n",
    "    \"\"\"\n",
    "    Create a GHZ state by successive CNOT from provided statevector \n",
    "    (This is a multi-qubit entanglemnt system)\n",
    "\n",
    "    Parameters\n",
    "    ----------\n",
    "    no_qubits: int\n",
    "        Number of qubits intitialized\n",
    "    initial_state: np.array\n",
    "        All the separable statevectors and non-separable statevectors\n",
    "\n",
    "    Returns\n",
    "    -------\n",
    "    circ: qiskit.circuit.quantumcircuit.QuantumCircuit\n",
    "        An circuit with GHZ gates built in to it\n",
    "        \n",
    "    \"\"\"\n",
    "    \n",
    "    circ = new_circuit(qubits, *initial_state, drawing = False)\n",
    "\n",
    "    circ.h(0)\n",
    "    \n",
    "    for i in range(qubits-1):\n",
    "        circ.cx(i, i+1)\n",
    "        \n",
    "    circ.barrier()\n",
    "        \n",
    "    # Draw Circuit\n",
    "    if drawing:\n",
    "        circ.draw('mpl')\n",
    "    \n",
    "    return circ"
   ]
  },
  {
   "cell_type": "code",
   "execution_count": 342,
   "metadata": {
    "scrolled": true
   },
   "outputs": [
    {
     "data": {
      "image/png": "[encoded data removed]",
      "text/plain": [
       "<Figure size 688.597x325.08 with 1 Axes>"
      ]
     },
     "metadata": {},
     "output_type": "display_data"
    }
   ],
   "source": [
    "circ = GHZ(4)"
   ]
  },
  {
   "cell_type": "markdown",
   "metadata": {},
   "source": [
    "## Measurement"
   ]
  },
  {
   "cell_type": "code",
   "execution_count": 343,
   "metadata": {},
   "outputs": [],
   "source": [
    "def measurement(circ, qubits = [], cbits = [], drawing = True):\n",
    "    \n",
    "    \"\"\"\n",
    "    Add Measurement Gates to Circuit\n",
    "\n",
    "    Parameters\n",
    "    ----------\n",
    "    no_qubits: int\n",
    "        Number of qubits intitialized\n",
    "    initial_state: np.array\n",
    "        All the separable statevectors and non-separable statevectors\n",
    "\n",
    "    Returns\n",
    "    -------\n",
    "    circ: qiskit.circuit.quantumcircuit.QuantumCircuit\n",
    "        An circuit with GHZ gates built in to it\n",
    "        \n",
    "    \"\"\"\n",
    "    \n",
    "    n = circ.num_qubits\n",
    "\n",
    "    # Measure All\n",
    "    if qubits == []:\n",
    "        circ.measure(range(n), range(n))\n",
    "        \n",
    "    # Measure Selected Qubits\n",
    "    else:\n",
    "        circ.measure(qubits, cbits)\n",
    "        \n",
    "    # Draw Circuit\n",
    "    if drawing:\n",
    "        circ.draw('mpl')\n",
    "        \n",
    "        return circ"
   ]
  },
  {
   "cell_type": "code",
   "execution_count": 344,
   "metadata": {},
   "outputs": [
    {
     "data": {
      "text/plain": [
       "<qiskit.circuit.quantumcircuit.QuantumCircuit at 0x7f840ce97850>"
      ]
     },
     "execution_count": 344,
     "metadata": {},
     "output_type": "execute_result"
    },
    {
     "data": {
      "image/png": "[encoded data removed]",
      "text/plain": [
       "<Figure size 808.997x325.08 with 1 Axes>"
      ]
     },
     "metadata": {},
     "output_type": "display_data"
    }
   ],
   "source": [
    "measurement(circ, [1, 3], [0, 2])"
   ]
  },
  {
   "cell_type": "markdown",
   "metadata": {},
   "source": [
    "## Quantum Algorithms"
   ]
  },
  {
   "cell_type": "markdown",
   "metadata": {},
   "source": [
    "### Quantum Teleportation\n",
    "\n",
    "#Typing checking and typing hinting "
   ]
  }
 ],
 "metadata": {
  "kernelspec": {
   "display_name": "Python 3",
   "language": "python",
   "name": "python3"
  },
  "language_info": {
   "codemirror_mode": {
    "name": "ipython",
    "version": 3
   },
   "file_extension": ".py",
   "mimetype": "text/x-python",
   "name": "python",
   "nbconvert_exporter": "python",
   "pygments_lexer": "ipython3",
   "version": "3.7.4"
  }
 },
 "nbformat": 4,
 "nbformat_minor": 2
}
